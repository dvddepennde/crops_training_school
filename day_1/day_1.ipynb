{
  "nbformat": 4,
  "nbformat_minor": 0,
  "metadata": {
    "colab": {
      "private_outputs": true,
      "provenance": []
    },
    "kernelspec": {
      "name": "python3",
      "display_name": "Python 3"
    }
  },
  "cells": [
    {
      "cell_type": "markdown",
      "metadata": {
        "id": "GYswp4cAuuBV"
      },
      "source": [
        "# Activity: Introduction to Pandas"
      ]
    },
    {
      "cell_type": "code",
      "metadata": {
        "id": "ZtKcUvuluiV5"
      },
      "source": [
        "import pandas as pd\n",
        "\n",
        "data = pd.read_csv('https://raw.githubusercontent.com/dvddepennde/crops_public_data/main/Crop_recommendation.csv')\n",
        "data"
      ],
      "execution_count": null,
      "outputs": []
    },
    {
      "cell_type": "markdown",
      "source": [
        "### **Showing data**"
      ],
      "metadata": {
        "id": "k_3rlX_-S1Q0"
      }
    },
    {
      "cell_type": "markdown",
      "source": [
        "Show first 5 rows in the DataFrame"
      ],
      "metadata": {
        "id": "j4W1UVLiJY6o"
      }
    },
    {
      "cell_type": "code",
      "source": [
        "data.head(5) # or data[:5]"
      ],
      "metadata": {
        "id": "PJ6E5Gu9rNn4"
      },
      "execution_count": null,
      "outputs": []
    },
    {
      "cell_type": "markdown",
      "source": [
        "Show last 5 rows in the DataFrame"
      ],
      "metadata": {
        "id": "I0HiCpGtagT5"
      }
    },
    {
      "cell_type": "code",
      "source": [
        "data.tail(5)"
      ],
      "metadata": {
        "id": "HssD_YWBOTYc"
      },
      "execution_count": null,
      "outputs": []
    },
    {
      "cell_type": "markdown",
      "source": [
        "Show 5 random rows in the DataFrame"
      ],
      "metadata": {
        "id": "i2wNEYDwajbX"
      }
    },
    {
      "cell_type": "code",
      "source": [
        "data.sample(5)"
      ],
      "metadata": {
        "id": "CKhvhu8BOW12"
      },
      "execution_count": null,
      "outputs": []
    },
    {
      "cell_type": "markdown",
      "source": [
        "Show the structure, the number of rows and columns in the DataFrame:"
      ],
      "metadata": {
        "id": "CCTgtm85L1r3"
      }
    },
    {
      "cell_type": "code",
      "source": [
        "data.shape"
      ],
      "metadata": {
        "id": "v3JwiukKL12H"
      },
      "execution_count": null,
      "outputs": []
    },
    {
      "cell_type": "markdown",
      "source": [
        "Display the name of the columns:"
      ],
      "metadata": {
        "id": "F-_pspiDL2Hb"
      }
    },
    {
      "cell_type": "code",
      "source": [
        "data.columns"
      ],
      "metadata": {
        "id": "B7aGwEuCL2Q6"
      },
      "execution_count": null,
      "outputs": []
    },
    {
      "cell_type": "markdown",
      "source": [
        "How to rename a column:"
      ],
      "metadata": {
        "id": "tjFy4rbRa5Bp"
      }
    },
    {
      "cell_type": "code",
      "source": [
        "data.rename(columns={'temperature': 'TEMPERATURE'})\n",
        "# To keep the data persistent, we need to do the following:\n",
        "# data = data.rename(columns={'temperature': 'TEMPERATURE'})\n",
        "# or\n",
        "# data.rename(columns={'temperature': 'TEMPERATURE'}, inplace=True)"
      ],
      "metadata": {
        "id": "8zHIajzyM3G3"
      },
      "execution_count": null,
      "outputs": []
    },
    {
      "cell_type": "markdown",
      "source": [
        "### **Column Access**"
      ],
      "metadata": {
        "id": "fIO9XkCASwUa"
      }
    },
    {
      "cell_type": "markdown",
      "source": [
        "To access to the value of a single column:"
      ],
      "metadata": {
        "id": "mEPrXBuFbeNW"
      }
    },
    {
      "cell_type": "code",
      "source": [
        "data['ph']"
      ],
      "metadata": {
        "id": "oa6XT38rM3QY"
      },
      "execution_count": null,
      "outputs": []
    },
    {
      "cell_type": "markdown",
      "source": [
        "Display the number of distinct values of each class in a single column:"
      ],
      "metadata": {
        "id": "LgmBobzrbqbZ"
      }
    },
    {
      "cell_type": "code",
      "source": [
        "data['label'].value_counts()"
      ],
      "metadata": {
        "id": "h8ntYCNqSinn"
      },
      "execution_count": null,
      "outputs": []
    },
    {
      "cell_type": "markdown",
      "source": [
        "Add a new column in the data:"
      ],
      "metadata": {
        "id": "jE3UzTW_ciVo"
      }
    },
    {
      "cell_type": "code",
      "source": [
        "data['columns'] = 'Example'\n",
        "data.head(5)"
      ],
      "metadata": {
        "id": "adbjvCVXM3hI"
      },
      "execution_count": null,
      "outputs": []
    },
    {
      "cell_type": "markdown",
      "source": [
        "Drop a column in the data:"
      ],
      "metadata": {
        "id": "cm86VjCGcnQv"
      }
    },
    {
      "cell_type": "code",
      "source": [
        "del data['columns']\n",
        "data.head(5)"
      ],
      "metadata": {
        "id": "4a9Tvr-SM5yW"
      },
      "execution_count": null,
      "outputs": []
    },
    {
      "cell_type": "markdown",
      "source": [
        "Obtain a subset of columns and their values:"
      ],
      "metadata": {
        "id": "JKiFGjtTcr-l"
      }
    },
    {
      "cell_type": "code",
      "source": [
        "data[['N', 'P', 'K']]"
      ],
      "metadata": {
        "id": "UAAEZC9NOFlZ"
      },
      "execution_count": null,
      "outputs": []
    },
    {
      "cell_type": "markdown",
      "source": [
        "### **Info Data**"
      ],
      "metadata": {
        "id": "67gb106_SUuR"
      }
    },
    {
      "cell_type": "markdown",
      "source": [
        "Obtain relevant information about columns in the DataFrame, for example, here we can observe:\n",
        "* The datatype of each column.\n",
        "* The number of Non-Null records by column.\n",
        "* Length of the data"
      ],
      "metadata": {
        "id": "O1-G5mKEc443"
      }
    },
    {
      "cell_type": "code",
      "source": [
        "data.info()"
      ],
      "metadata": {
        "id": "OJ4qoH3kOmo8"
      },
      "execution_count": null,
      "outputs": []
    },
    {
      "cell_type": "markdown",
      "source": [
        "Obtain statistical information about our numerical variables:"
      ],
      "metadata": {
        "id": "xVQaFHl_dPw8"
      }
    },
    {
      "cell_type": "code",
      "source": [
        "data.describe()"
      ],
      "metadata": {
        "id": "IjuK2Yq1PAER"
      },
      "execution_count": null,
      "outputs": []
    },
    {
      "cell_type": "markdown",
      "source": [
        "Number of different values in each column:"
      ],
      "metadata": {
        "id": "6jP5j3vXdnw4"
      }
    },
    {
      "cell_type": "code",
      "source": [
        "data.nunique()"
      ],
      "metadata": {
        "id": "bhy0b8pQPAMe"
      },
      "execution_count": null,
      "outputs": []
    },
    {
      "cell_type": "markdown",
      "source": [
        "Number of NULL values per column:"
      ],
      "metadata": {
        "id": "TH-qETw-dtzW"
      }
    },
    {
      "cell_type": "code",
      "source": [
        "data.isnull().sum()"
      ],
      "metadata": {
        "id": "9a2Gig0HPVGL"
      },
      "execution_count": null,
      "outputs": []
    },
    {
      "cell_type": "markdown",
      "source": [
        "From a single column, obtain the different values it takes:"
      ],
      "metadata": {
        "id": "g_f08M_ed1_C"
      }
    },
    {
      "cell_type": "code",
      "source": [
        "data['label'].unique()"
      ],
      "metadata": {
        "id": "eufPbesNOFyn"
      },
      "execution_count": null,
      "outputs": []
    },
    {
      "cell_type": "markdown",
      "source": [
        "Access to a single row in the data:"
      ],
      "metadata": {
        "id": "eKpgHuUhd8s_"
      }
    },
    {
      "cell_type": "code",
      "source": [
        "data.iloc[2] # This is the third one, indexes in computer science always begin with 0."
      ],
      "metadata": {
        "id": "dq1IXNPcPM8b"
      },
      "execution_count": null,
      "outputs": []
    },
    {
      "cell_type": "markdown",
      "source": [
        "Obtain the maximum, minimum, and mean values in a column:"
      ],
      "metadata": {
        "id": "LKCfhgsOeHIi"
      }
    },
    {
      "cell_type": "code",
      "source": [
        "print(f\"Maximum Temperature: {data['temperature'].max()}\")\n",
        "print(f\"Minimum Temperature: {data['temperature'].min()}\")\n",
        "print(f\"Mean Temperature: {data['temperature'].mean()}\")"
      ],
      "metadata": {
        "id": "d0ajN81RPNDN"
      },
      "execution_count": null,
      "outputs": []
    },
    {
      "cell_type": "markdown",
      "source": [
        "### **Mathematical operations with columns**"
      ],
      "metadata": {
        "id": "1H85maZQSSt4"
      }
    },
    {
      "cell_type": "markdown",
      "source": [
        "Sum of columns:"
      ],
      "metadata": {
        "id": "B_CTJ8yNe7v_"
      }
    },
    {
      "cell_type": "code",
      "source": [
        "data['K'] + data['N']"
      ],
      "metadata": {
        "id": "FeLhG31vQHBH"
      },
      "execution_count": null,
      "outputs": []
    },
    {
      "cell_type": "markdown",
      "source": [
        "Product with a scalar:"
      ],
      "metadata": {
        "id": "r3el-6cQfA54"
      }
    },
    {
      "cell_type": "code",
      "source": [
        "data['K'] * 2"
      ],
      "metadata": {
        "id": "nGtsi03bRKxf"
      },
      "execution_count": null,
      "outputs": []
    },
    {
      "cell_type": "markdown",
      "source": [
        "### **Sorting Data**"
      ],
      "metadata": {
        "id": "Y1wf-EM7SQyt"
      }
    },
    {
      "cell_type": "markdown",
      "source": [
        "Sort data by one or more columns:"
      ],
      "metadata": {
        "id": "MKI3QaGAhUy2"
      }
    },
    {
      "cell_type": "code",
      "source": [
        "data.sort_values(by=['K', 'N'], ascending=True).head(4)"
      ],
      "metadata": {
        "id": "CaAf733STdaG"
      },
      "execution_count": null,
      "outputs": []
    },
    {
      "cell_type": "markdown",
      "source": [
        "### **Filtering Data**"
      ],
      "metadata": {
        "id": "xC4lXmp9Twui"
      }
    },
    {
      "cell_type": "markdown",
      "source": [
        "Filter data by exact value of label"
      ],
      "metadata": {
        "id": "PjsrmvR3hwp5"
      }
    },
    {
      "cell_type": "code",
      "source": [
        "data[data['label'] == 'orange'][:5]"
      ],
      "metadata": {
        "id": "OX9ozqJBTZEd"
      },
      "execution_count": null,
      "outputs": []
    },
    {
      "cell_type": "markdown",
      "source": [
        "Filter data with a greater operator:"
      ],
      "metadata": {
        "id": "m_8XSPEThxQf"
      }
    },
    {
      "cell_type": "code",
      "source": [
        "data[data['humidity'] > 98][:5]"
      ],
      "metadata": {
        "id": "l0Dz5CLpT5yf"
      },
      "execution_count": null,
      "outputs": []
    },
    {
      "cell_type": "markdown",
      "source": [
        "Obtain the number of records with a single condition"
      ],
      "metadata": {
        "id": "1-KWabm1hyRK"
      }
    },
    {
      "cell_type": "code",
      "source": [
        "print(f\"Number of records with humidity greater than 98: {len(data[data['humidity'] > 98])}\")"
      ],
      "metadata": {
        "id": "_p66jkCpUDM1"
      },
      "execution_count": null,
      "outputs": []
    },
    {
      "cell_type": "markdown",
      "source": [
        "Obtain data with multiple conditions:"
      ],
      "metadata": {
        "id": "j0A8PnayhzKB"
      }
    },
    {
      "cell_type": "code",
      "source": [
        "data[(data['label'] == 'orange')&(data['humidity'] > 94.7)] # If we want to use the OR operand, we must use | instead of &"
      ],
      "metadata": {
        "id": "6zinqAzUUNjj"
      },
      "execution_count": null,
      "outputs": []
    },
    {
      "cell_type": "markdown",
      "source": [
        "Obtain the data that match the max value of the column:"
      ],
      "metadata": {
        "id": "8rGAFwv9h222"
      }
    },
    {
      "cell_type": "code",
      "source": [
        "data[data['humidity'] == data['humidity'].max()]"
      ],
      "metadata": {
        "id": "9Pk9OPgQUmX2"
      },
      "execution_count": null,
      "outputs": []
    },
    {
      "cell_type": "markdown",
      "source": [
        "Filtering the dataset to include only rows where the 'label' column contains the substring 'co':"
      ],
      "metadata": {
        "id": "3Fp2atBeh1r8"
      }
    },
    {
      "cell_type": "code",
      "source": [
        "# .sample() retrieve random rows\n",
        "data[data['label'].str.contains('co')].sample(5)"
      ],
      "metadata": {
        "id": "ZNE71OzFWJtq"
      },
      "execution_count": null,
      "outputs": []
    },
    {
      "cell_type": "markdown",
      "source": [
        "## **Now it's your turn!**"
      ],
      "metadata": {
        "id": "qe3_J4fwgVhi"
      }
    },
    {
      "cell_type": "markdown",
      "source": [
        "# **Activities**"
      ],
      "metadata": {
        "id": "9RIDNi-rLPd-"
      }
    },
    {
      "cell_type": "markdown",
      "metadata": {
        "id": "saDsmFWQvfEL"
      },
      "source": [
        "**1.** **Display the last 2 rows of the DataFrame:**"
      ]
    },
    {
      "cell_type": "code",
      "metadata": {
        "id": "KbExU517v1WO"
      },
      "source": [],
      "execution_count": null,
      "outputs": []
    },
    {
      "cell_type": "markdown",
      "metadata": {
        "id": "RcimoyJqyxtL"
      },
      "source": [
        "**2.** **Calculate the mean value of the column 'humidity':**"
      ]
    },
    {
      "cell_type": "code",
      "metadata": {
        "id": "53etPABNyxDC"
      },
      "source": [],
      "execution_count": null,
      "outputs": []
    },
    {
      "cell_type": "markdown",
      "metadata": {
        "id": "c8FMNULAzHYt"
      },
      "source": [
        "**3.** **Create a column with the temperature in Kelvin (Celsius + 273) named 'K_temperature' and sort it in descending order by its new column.**"
      ]
    },
    {
      "cell_type": "code",
      "metadata": {
        "id": "4UT6kLNvzGu6"
      },
      "source": [],
      "execution_count": null,
      "outputs": []
    },
    {
      "cell_type": "markdown",
      "metadata": {
        "id": "KMiqMgfHzeLR"
      },
      "source": [
        "**4.** **Display the columns 'N', 'P', 'K' and 'temperature' of those whose label is 'coffee' or 'humidity' is greater than or equal to 92.**"
      ]
    },
    {
      "cell_type": "code",
      "metadata": {
        "id": "cmPiSe51zdwt"
      },
      "source": [],
      "execution_count": null,
      "outputs": []
    },
    {
      "cell_type": "markdown",
      "metadata": {
        "id": "PrYLus1y1nY0"
      },
      "source": [
        "**5.** **Display the number of records that have a 'temperature' between 24 and 25 and 'humidity' greater than 90.**"
      ]
    },
    {
      "cell_type": "code",
      "metadata": {
        "id": "6BgEA_BW03zh"
      },
      "source": [],
      "execution_count": null,
      "outputs": []
    }
  ]
}