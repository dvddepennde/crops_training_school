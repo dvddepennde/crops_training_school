{
  "nbformat": 4,
  "nbformat_minor": 0,
  "metadata": {
    "colab": {
      "provenance": []
    },
    "kernelspec": {
      "name": "python3",
      "display_name": "Python 3"
    },
    "language_info": {
      "name": "python"
    }
  },
  "cells": [
    {
      "cell_type": "markdown",
      "source": [
        "### **Load the dataset:**"
      ],
      "metadata": {
        "id": "vbJFOS3xRDqY"
      }
    },
    {
      "cell_type": "code",
      "execution_count": null,
      "metadata": {
        "id": "bIW2jHW_Qkgg"
      },
      "outputs": [],
      "source": [
        "path = '/content/WG2_FAOSTAT_PEAS_production_5-3-2024.xlsx'\n",
        "data = pd.read_excel(path)\n",
        "data.head()"
      ]
    },
    {
      "cell_type": "markdown",
      "source": [
        "## Activity\n",
        "In this section, you should be able to explore to explore the dataset by creating and displaying various graphs, allowing you to visualize and analyze the data properly.\n",
        "\n",
        "Remember, if you have any doubt ask your teachers David and Carmen ;)"
      ],
      "metadata": {
        "id": "0uBjVlQLRI89"
      }
    },
    {
      "cell_type": "code",
      "source": [],
      "metadata": {
        "id": "rHoelU3yRzV5"
      },
      "execution_count": null,
      "outputs": []
    }
  ]
}